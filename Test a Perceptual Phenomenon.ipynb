{
 "cells": [
  {
   "cell_type": "markdown",
   "metadata": {},
   "source": [
    "# Analyzing the Stroop Effect"
   ]
  },
  {
   "cell_type": "markdown",
   "metadata": {},
   "source": [
    "## by Patrick Bloomingdale\n",
    "This project is part of Udacity's Data Analyst Nanodegree<br>\n",
    "**Term:** 2<br>\n",
    "**Project:** 1<br>\n",
    "**Due Date:** October 09, 2018"
   ]
  },
  {
   "cell_type": "markdown",
   "metadata": {},
   "source": [
    "### Background Information\n",
    "In a Stroop task, participants are presented with a list of words, with each word displayed in a color of ink. The participant’s task is to say out loud the color of the ink in which the word is printed. The task has two conditions: a congruent words condition, and an incongruent words condition. In the congruent words condition, the words being displayed are color words whose names match the colors in which they are printed: for example RED, BLUE. In the incongruent words condition, the words displayed are color words whose names do not match the colors in which they are printed: for example PURPLE, ORANGE. In each case, we measure the time it takes to name the ink colors in equally-sized lists. Each participant will go through and record a time from each condition.\n",
    "\n",
    "> **CONGRUENT, INCONGRUENT DEFINED**\n",
    "- **`Congruent Words Condition:`** Color words match the color that is printed<br>\n",
    "- **`Incongruent Words Condition:`** Color words that `do not` match the color that is printed"
   ]
  },
  {
   "cell_type": "markdown",
   "metadata": {},
   "source": [
    "**(1) What is the independent variable? What is the dependent variable?**"
   ]
  },
  {
   "cell_type": "markdown",
   "metadata": {},
   "source": [
    "- **Independent Variable:** Congruent and Incongruent Words Conditions<br>\n",
    "\n",
    "- **Dependent Variable:** Reaction time `(RT)` of the participant"
   ]
  },
  {
   "cell_type": "markdown",
   "metadata": {},
   "source": [
    "**(2) What is an appropriate set of hypotheses for this task? Specify your null and alternative hypotheses, and clearly define any notation used. Justify your choices.**"
   ]
  },
  {
   "cell_type": "markdown",
   "metadata": {},
   "source": [
    "**Null Hypotheses** (**$H_{0}$**): (**$p_{congruent}$**) ≤ (**$p_{incongruent}$**)\n",
    "> No change in reading time between two reading conditions (congruent vs. Incongruent).<br>\n",
    "> - The null hypothesis is what we assume to be true before analyzing the data.<br>\n",
    "\n",
    "**Alternative Hypotheses** (**$H_{1}$**): (**$p_{congruent}$**) < (**$p_{incongruent}$**)\n",
    "> Congruent word conditions take less time than incongruent word conditions.<br><br>\n",
    "> - Our alternative hypothesis is what we want to prove to be true. <br>"
   ]
  },
  {
   "cell_type": "code",
   "execution_count": 1,
   "metadata": {},
   "outputs": [],
   "source": [
    "# Import packages\n",
    "import pandas as pd\n",
    "import numpy as np\n",
    "import matplotlib.pyplot as plt\n",
    "%matplotlib inline\n",
    "import scipy.stats as stats"
   ]
  },
  {
   "cell_type": "code",
   "execution_count": 2,
   "metadata": {},
   "outputs": [],
   "source": [
    "# import dataset\n",
    "df = pd.read_csv('stroopdata.csv')"
   ]
  },
  {
   "cell_type": "code",
   "execution_count": 3,
   "metadata": {},
   "outputs": [
    {
     "data": {
      "text/html": [
       "<div>\n",
       "<style>\n",
       "    .dataframe thead tr:only-child th {\n",
       "        text-align: right;\n",
       "    }\n",
       "\n",
       "    .dataframe thead th {\n",
       "        text-align: left;\n",
       "    }\n",
       "\n",
       "    .dataframe tbody tr th {\n",
       "        vertical-align: top;\n",
       "    }\n",
       "</style>\n",
       "<table border=\"1\" class=\"dataframe\">\n",
       "  <thead>\n",
       "    <tr style=\"text-align: right;\">\n",
       "      <th></th>\n",
       "      <th>Congruent</th>\n",
       "      <th>Incongruent</th>\n",
       "    </tr>\n",
       "  </thead>\n",
       "  <tbody>\n",
       "    <tr>\n",
       "      <th>0</th>\n",
       "      <td>12.079</td>\n",
       "      <td>19.278</td>\n",
       "    </tr>\n",
       "    <tr>\n",
       "      <th>1</th>\n",
       "      <td>16.791</td>\n",
       "      <td>18.741</td>\n",
       "    </tr>\n",
       "    <tr>\n",
       "      <th>2</th>\n",
       "      <td>9.564</td>\n",
       "      <td>21.214</td>\n",
       "    </tr>\n",
       "    <tr>\n",
       "      <th>3</th>\n",
       "      <td>8.630</td>\n",
       "      <td>15.687</td>\n",
       "    </tr>\n",
       "    <tr>\n",
       "      <th>4</th>\n",
       "      <td>14.669</td>\n",
       "      <td>22.803</td>\n",
       "    </tr>\n",
       "  </tbody>\n",
       "</table>\n",
       "</div>"
      ],
      "text/plain": [
       "   Congruent  Incongruent\n",
       "0     12.079       19.278\n",
       "1     16.791       18.741\n",
       "2      9.564       21.214\n",
       "3      8.630       15.687\n",
       "4     14.669       22.803"
      ]
     },
     "execution_count": 3,
     "metadata": {},
     "output_type": "execute_result"
    }
   ],
   "source": [
    "# look at all columns and rows of the dataset\n",
    "df.head()"
   ]
  },
  {
   "cell_type": "code",
   "execution_count": 4,
   "metadata": {},
   "outputs": [
    {
     "name": "stdout",
     "output_type": "stream",
     "text": [
      "There are 24 people who took the Stroop Effect Test.\n"
     ]
    }
   ],
   "source": [
    "# number of rows in the dataset\n",
    "df_rows = df.shape[0]\n",
    "print(\"There are {} people who took the Stroop Effect Test.\".format(df_rows))"
   ]
  },
  {
   "cell_type": "markdown",
   "metadata": {},
   "source": [
    "**(3) Report some descriptive statistics regarding this dataset. Include at least one measure of central tendency and at least one measure of variability. The name of the data file is 'stroopdata.csv'.**"
   ]
  },
  {
   "cell_type": "markdown",
   "metadata": {},
   "source": [
    "### Measure of Central Tendency\n",
    "A measure of central tendency is a summary statistic that represents the center point or typical value of a dataset. These measures indicate where most values in a distribution fall and are also referred to as the central location of a distribution.<br>\n",
    "In statistics, the three most common measures of central tendency are the `mean`, `median`, and `mode`. Each of these measures calculates the location of the central point using a different method."
   ]
  },
  {
   "cell_type": "code",
   "execution_count": 5,
   "metadata": {},
   "outputs": [
    {
     "data": {
      "text/html": [
       "<div>\n",
       "<style>\n",
       "    .dataframe thead tr:only-child th {\n",
       "        text-align: right;\n",
       "    }\n",
       "\n",
       "    .dataframe thead th {\n",
       "        text-align: left;\n",
       "    }\n",
       "\n",
       "    .dataframe tbody tr th {\n",
       "        vertical-align: top;\n",
       "    }\n",
       "</style>\n",
       "<table border=\"1\" class=\"dataframe\">\n",
       "  <thead>\n",
       "    <tr style=\"text-align: right;\">\n",
       "      <th></th>\n",
       "      <th>Congruent</th>\n",
       "      <th>Incongruent</th>\n",
       "    </tr>\n",
       "  </thead>\n",
       "  <tbody>\n",
       "    <tr>\n",
       "      <th>count</th>\n",
       "      <td>24.000000</td>\n",
       "      <td>24.000000</td>\n",
       "    </tr>\n",
       "    <tr>\n",
       "      <th>mean</th>\n",
       "      <td>14.051125</td>\n",
       "      <td>22.015917</td>\n",
       "    </tr>\n",
       "    <tr>\n",
       "      <th>std</th>\n",
       "      <td>3.559358</td>\n",
       "      <td>4.797057</td>\n",
       "    </tr>\n",
       "    <tr>\n",
       "      <th>min</th>\n",
       "      <td>8.630000</td>\n",
       "      <td>15.687000</td>\n",
       "    </tr>\n",
       "    <tr>\n",
       "      <th>25%</th>\n",
       "      <td>11.895250</td>\n",
       "      <td>18.716750</td>\n",
       "    </tr>\n",
       "    <tr>\n",
       "      <th>50%</th>\n",
       "      <td>14.356500</td>\n",
       "      <td>21.017500</td>\n",
       "    </tr>\n",
       "    <tr>\n",
       "      <th>75%</th>\n",
       "      <td>16.200750</td>\n",
       "      <td>24.051500</td>\n",
       "    </tr>\n",
       "    <tr>\n",
       "      <th>max</th>\n",
       "      <td>22.328000</td>\n",
       "      <td>35.255000</td>\n",
       "    </tr>\n",
       "  </tbody>\n",
       "</table>\n",
       "</div>"
      ],
      "text/plain": [
       "       Congruent  Incongruent\n",
       "count  24.000000    24.000000\n",
       "mean   14.051125    22.015917\n",
       "std     3.559358     4.797057\n",
       "min     8.630000    15.687000\n",
       "25%    11.895250    18.716750\n",
       "50%    14.356500    21.017500\n",
       "75%    16.200750    24.051500\n",
       "max    22.328000    35.255000"
      ]
     },
     "execution_count": 5,
     "metadata": {},
     "output_type": "execute_result"
    }
   ],
   "source": [
    "# use describe to calculate mean, median(50 percentile), and standard deviation\n",
    "df.describe()"
   ]
  },
  {
   "cell_type": "code",
   "execution_count": 6,
   "metadata": {},
   "outputs": [
    {
     "name": "stdout",
     "output_type": "stream",
     "text": [
      "Congruent Mean: 14.051125\n",
      "Incongruent Mean: 22.0159166667\n",
      "---------------------------------\n",
      "Congruent Median: 14.3565\n",
      "Incongruent Median: 21.0175\n",
      "---------------------------------\n",
      "DIFFERENCE IN REACTION TIME\n",
      "The Reaction Time (RT) for Congruent is 7.9648 seconds faster than incongruent\n"
     ]
    }
   ],
   "source": [
    "# calculate and print mean, median \n",
    "print(\"Congruent Mean:\", df.Congruent.mean())\n",
    "print(\"Incongruent Mean:\", df.Incongruent.mean())\n",
    "print(\"---------------------------------\")\n",
    "print(\"Congruent Median:\", df.Congruent.median())\n",
    "print(\"Incongruent Median:\", df.Incongruent.median())\n",
    "print(\"---------------------------------\")\n",
    "print(\"DIFFERENCE IN REACTION TIME\")\n",
    "rt_diff = df.Incongruent.mean() - df.Congruent.mean()\n",
    "print(\"The Reaction Time (RT) for Congruent is {} seconds faster than incongruent\".format(round(rt_diff, 4)))"
   ]
  },
  {
   "cell_type": "markdown",
   "metadata": {},
   "source": [
    "- **The average (mean) reaction time for congruent (14.05) is smaller than the average reaction time for incongruent (22.01).**\n",
    "- **The median (50th Percentile) reaction time for congruent(14.35) is smaller than the average reaction time for incongruent (21.01).**"
   ]
  },
  {
   "cell_type": "markdown",
   "metadata": {},
   "source": [
    "### Measure of Variability"
   ]
  },
  {
   "cell_type": "code",
   "execution_count": 7,
   "metadata": {},
   "outputs": [
    {
     "data": {
      "text/html": [
       "<div>\n",
       "<style>\n",
       "    .dataframe thead tr:only-child th {\n",
       "        text-align: right;\n",
       "    }\n",
       "\n",
       "    .dataframe thead th {\n",
       "        text-align: left;\n",
       "    }\n",
       "\n",
       "    .dataframe tbody tr th {\n",
       "        vertical-align: top;\n",
       "    }\n",
       "</style>\n",
       "<table border=\"1\" class=\"dataframe\">\n",
       "  <thead>\n",
       "    <tr style=\"text-align: right;\">\n",
       "      <th></th>\n",
       "      <th>Congruent</th>\n",
       "      <th>Incongruent</th>\n",
       "    </tr>\n",
       "  </thead>\n",
       "  <tbody>\n",
       "    <tr>\n",
       "      <th>count</th>\n",
       "      <td>24.000000</td>\n",
       "      <td>24.000000</td>\n",
       "    </tr>\n",
       "    <tr>\n",
       "      <th>mean</th>\n",
       "      <td>14.051125</td>\n",
       "      <td>22.015917</td>\n",
       "    </tr>\n",
       "    <tr>\n",
       "      <th>std</th>\n",
       "      <td>3.559358</td>\n",
       "      <td>4.797057</td>\n",
       "    </tr>\n",
       "    <tr>\n",
       "      <th>min</th>\n",
       "      <td>8.630000</td>\n",
       "      <td>15.687000</td>\n",
       "    </tr>\n",
       "    <tr>\n",
       "      <th>25%</th>\n",
       "      <td>11.895250</td>\n",
       "      <td>18.716750</td>\n",
       "    </tr>\n",
       "    <tr>\n",
       "      <th>50%</th>\n",
       "      <td>14.356500</td>\n",
       "      <td>21.017500</td>\n",
       "    </tr>\n",
       "    <tr>\n",
       "      <th>75%</th>\n",
       "      <td>16.200750</td>\n",
       "      <td>24.051500</td>\n",
       "    </tr>\n",
       "    <tr>\n",
       "      <th>max</th>\n",
       "      <td>22.328000</td>\n",
       "      <td>35.255000</td>\n",
       "    </tr>\n",
       "  </tbody>\n",
       "</table>\n",
       "</div>"
      ],
      "text/plain": [
       "       Congruent  Incongruent\n",
       "count  24.000000    24.000000\n",
       "mean   14.051125    22.015917\n",
       "std     3.559358     4.797057\n",
       "min     8.630000    15.687000\n",
       "25%    11.895250    18.716750\n",
       "50%    14.356500    21.017500\n",
       "75%    16.200750    24.051500\n",
       "max    22.328000    35.255000"
      ]
     },
     "execution_count": 7,
     "metadata": {},
     "output_type": "execute_result"
    }
   ],
   "source": [
    "df.describe()"
   ]
  },
  {
   "cell_type": "code",
   "execution_count": 8,
   "metadata": {},
   "outputs": [
    {
     "name": "stdout",
     "output_type": "stream",
     "text": [
      "Standard Deviation\n"
     ]
    },
    {
     "data": {
      "text/plain": [
       "Congruent      3.559358\n",
       "Incongruent    4.797057\n",
       "dtype: float64"
      ]
     },
     "execution_count": 8,
     "metadata": {},
     "output_type": "execute_result"
    }
   ],
   "source": [
    "# standard deviation\n",
    "print(\"Standard Deviation\")\n",
    "df.std()"
   ]
  },
  {
   "cell_type": "markdown",
   "metadata": {},
   "source": [
    "**(4) Provide two or more visualizations that show the distribution of the sample data. Write one or two sentences noting what you observe about the plot or plots.**"
   ]
  },
  {
   "cell_type": "code",
   "execution_count": 9,
   "metadata": {},
   "outputs": [
    {
     "data": {
      "image/png": "[encoded data removed]",
      "text/plain": [
       "<matplotlib.figure.Figure at 0x7f647696cef0>"
      ]
     },
     "metadata": {
      "needs_background": "light"
     },
     "output_type": "display_data"
    }
   ],
   "source": [
    "# congruent vs. incongruent bar chart\n",
    "df.mean().plot('bar');\n",
    "plt.ylabel('Time in Seconds');\n",
    "plt.xlabel('Word Conditions');\n",
    "plt.title('Congruent vs. Incongruent Bar Chart');"
   ]
  },
  {
   "cell_type": "markdown",
   "metadata": {},
   "source": [
    "> **The bar chart above shows that the congruent reaction times are faster than that of incongreunt reaction times.**"
   ]
  },
  {
   "cell_type": "code",
   "execution_count": 10,
   "metadata": {},
   "outputs": [
    {
     "data": {
      "image/png": "[encoded data removed]",
      "text/plain": [
       "<matplotlib.figure.Figure at 0x7f6476cc2e80>"
      ]
     },
     "metadata": {
      "needs_background": "light"
     },
     "output_type": "display_data"
    }
   ],
   "source": [
    "#create colors for boxplot\n",
    "color = dict(boxes='r', whiskers='b', medians=\"g\", caps=\"y\" )\n",
    "\n",
    "# Set columns to lists to use in ttest function\n",
    "congruent = df.Congruent.values.tolist()\n",
    "incongruent = df.Incongruent.values.tolist()\n",
    "\n",
    "#combine these different collections into a list\n",
    "data_to_plot = [congruent, incongruent]\n",
    "\n",
    "#boxplot - add patch_artist=True to get fill color\n",
    "bp = df.plot.box(data_to_plot, color=color, patch_artist=True);\n",
    "    \n",
    "plt.ylabel('Time in Seconds');\n",
    "plt.xlabel('Word Conditions');\n",
    "plt.title('Congruent vs. Incongruent Boxplot');"
   ]
  },
  {
   "cell_type": "markdown",
   "metadata": {},
   "source": [
    "> **The boxplot above shows that the congruent reaction times are faster than that of incongreunt reaction times.**\n",
    "- You can also see two outliers for the Incongruent Word Conditions"
   ]
  },
  {
   "cell_type": "code",
   "execution_count": 11,
   "metadata": {},
   "outputs": [
    {
     "data": {
      "text/plain": [
       "<matplotlib.figure.Figure at 0x7f6474857358>"
      ]
     },
     "metadata": {},
     "output_type": "display_data"
    },
    {
     "data": {
      "image/png": "[encoded data removed]",
      "text/plain": [
       "<matplotlib.figure.Figure at 0x7f6474902208>"
      ]
     },
     "metadata": {
      "needs_background": "light"
     },
     "output_type": "display_data"
    }
   ],
   "source": [
    "plt.figure();\n",
    "df.plot.hist();\n",
    "plt.xlabel('Reaction Time (seconds)');\n",
    "plt.title('Congruent vs. Incongruent Histogram');\n",
    "plt.legend();\n",
    "plt.show();"
   ]
  },
  {
   "cell_type": "markdown",
   "metadata": {},
   "source": [
    "> **The histograms show that the congruent reaction times were faster than incongruent.**\n",
    "- Agan, you can see that Incongruent Word Conditions has two outliers."
   ]
  },
  {
   "cell_type": "markdown",
   "metadata": {},
   "source": [
    "**(5)  Now, perform the statistical test and report your results. What is your confidence level or Type I error associated with your test? What is your conclusion regarding the hypotheses you set up? Did the results match up with your expectations?**"
   ]
  },
  {
   "cell_type": "markdown",
   "metadata": {},
   "source": [
    "**Statistical Test**: Paired T-Test\n",
    ">I will use a Paired T-Test since we are doing a comparison of two different conditions (congruent vs. incongruent) where the conditions are applied to the same subjects."
   ]
  },
  {
   "cell_type": "code",
   "execution_count": 12,
   "metadata": {},
   "outputs": [
    {
     "name": "stdout",
     "output_type": "stream",
     "text": [
      "T-Statistic: 8.02070694411\n",
      "P-Value: 4.10300058571e-08\n"
     ]
    }
   ],
   "source": [
    "# Perform ttest\n",
    "# paired, pvalue > 0.05, accept null hypothesis\n",
    "tstat, pvalue = stats.ttest_rel(df['Incongruent'],df['Congruent'],axis=0)\n",
    "print(\"T-Statistic:\", tstat)\n",
    "print(\"P-Value:\", pvalue)"
   ]
  },
  {
   "cell_type": "code",
   "execution_count": 13,
   "metadata": {},
   "outputs": [
    {
     "data": {
      "text/plain": [
       "Ttest_1sampResult(statistic=8.020706944109957, pvalue=4.1030005857111781e-08)"
      ]
     },
     "execution_count": 13,
     "metadata": {},
     "output_type": "execute_result"
    }
   ],
   "source": [
    "# 1 sample t-test with difference, same result as stats.ttest_rel\n",
    "stats.ttest_1samp(df.Incongruent - df.Congruent, 0)"
   ]
  },
  {
   "cell_type": "markdown",
   "metadata": {},
   "source": [
    "**T-STATISTICS**<br>\n",
    "The t-statistic that results from a paired t-test is 8.0207. <br>\n",
    "<br>\n",
    "**P-VALUE**<br>\n",
    "The p-value that results from a paired t-test is 0.0000000410300058571.<br>\n",
    "\n",
    ">**Based on the results above, and using a 5% level for statistical significance:**\n",
    "- Since the p-value is less than 0.05, we reject the null hypothesis.\n",
    "- Small p-values are associated with large t-statistics."
   ]
  },
  {
   "cell_type": "markdown",
   "metadata": {},
   "source": [
    "**(6) What do you think is responsible for the effects observed? Can you think of an alternative or similar task that would result in a similar effect? Some research about the problem will be helpful for thinking about these two questions!**"
   ]
  },
  {
   "cell_type": "markdown",
   "metadata": {},
   "source": [
    "**ALTERNATIVE VERSION OF THE STROOP EFFECT**\n",
    "There are plenty of alternative versions of adaptations of the stoop effect.  Below is the summary and link to a couple of publications  that would result in a similar effect.\n",
    "\n",
    "**1.** `Automatic Processing of Psychological Distance: Evidence From a Stroop Task`<br>\n",
    "**Abstract**<br>\n",
    "A picture–word version of the Stroop task was used to test the automatic activation of psychological distance by words carrying various senses of psychological distance: temporal (tomorrow, in a year), social (friend, enemy), and hypotheticality (sure, maybe). The pictures implied depth, with the words appearing relatively close to or distant from the observer. The participants classified the spatial distance of words faster when the word’s implicit psychological distance matched its spatial distance (e.g., a geographically close word was classified faster when it was “friend” than when it was “enemy”). The findings are consistent with the idea that psychological distance is accessed automatically, even when it is not directly related to people’s current goals, and suggest that psychological distance is an important dimension of meaning, common to spatial distance, temporal distance, social distance, and hypotheticality.<br>\n",
    "http://www.psych.nyu.edu/tropelab/publications/Bar-Ananetal2007.pdf\n",
    "\n",
    "**2.** `The Reverse Stroop Effect`<br>\n",
    "**Abstract**<br>\n",
    "In classic Stroop interference, manual or oral identification of sensory colors presented as incongruent color words is delayed relative to simple color naming. In the experiment reported here, this effect was shown to all but disappear when the response was simply to point to a matching patch of color. Conversely, strong Reverse Stroop interference occurred with the pointing task. That is, when the sensory color of a color word was incongruent with that word, responses to color words were delayed by an average of 69 msec relative to a word presented in gray. Thus, incongruently-colored words interfere strongly with pointing to a color patch named by the words, but little interference from incongruent color words is found when the goal is to match the color of the word. These results suggest that Stroop effects arise from response compatibility of irrelevant information rather than automatic processing or habit strength.<br>\n",
    "http://www.swarthmore.edu/SocSci/fdurgin1/ReverseStroop/PBRStroop.html\n"
   ]
  },
  {
   "cell_type": "code",
   "execution_count": 14,
   "metadata": {},
   "outputs": [
    {
     "data": {
      "text/plain": [
       "0"
      ]
     },
     "execution_count": 14,
     "metadata": {},
     "output_type": "execute_result"
    }
   ],
   "source": [
    "from subprocess import call\n",
    "call(['python', '-m', 'nbconvert', 'Test a Perceptual Phenomenon.ipynb'])"
   ]
  }
 ],
 "metadata": {
  "kernelspec": {
   "display_name": "Python 3",
   "language": "python",
   "name": "python3"
  },
  "language_info": {
   "codemirror_mode": {
    "name": "ipython",
    "version": 3
   },
   "file_extension": ".py",
   "mimetype": "text/x-python",
   "name": "python",
   "nbconvert_exporter": "python",
   "pygments_lexer": "ipython3",
   "version": "3.6.3"
  }
 },
 "nbformat": 4,
 "nbformat_minor": 2
}
